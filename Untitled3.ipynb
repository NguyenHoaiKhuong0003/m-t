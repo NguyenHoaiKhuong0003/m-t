{
  "nbformat": 4,
  "nbformat_minor": 0,
  "metadata": {
    "colab": {
      "name": "Untitled3.ipynb",
      "provenance": [],
      "authorship_tag": "ABX9TyOsXB4gTYLsW4NP3X1OxjQQ",
      "include_colab_link": true
    },
    "kernelspec": {
      "name": "python3",
      "display_name": "Python 3"
    },
    "language_info": {
      "name": "python"
    }
  },
  "cells": [
    {
      "cell_type": "markdown",
      "metadata": {
        "id": "view-in-github",
        "colab_type": "text"
      },
      "source": [
        "<a href=\"https://colab.research.google.com/github/NguyenHoaiKhuong0003/m-t/blob/main/Untitled3.ipynb\" target=\"_parent\"><img src=\"https://colab.research.google.com/assets/colab-badge.svg\" alt=\"Open In Colab\"/></a>"
      ]
    },
    {
      "cell_type": "code",
      "execution_count": null,
      "metadata": {
        "colab": {
          "base_uri": "https://localhost:8080/"
        },
        "id": "gXxJUgHWKg6D",
        "outputId": "6fb691a6-6a5a-454d-ccf3-a9e648a610d8"
      },
      "outputs": [
        {
          "output_type": "execute_result",
          "data": {
            "text/plain": [
              "1"
            ]
          },
          "metadata": {},
          "execution_count": 19
        }
      ],
      "source": [
        "#bài1\n",
        "def luythua(x, n):\n",
        "  ketqua = 1\n",
        "  for i in range(n):\n",
        "    ketqua=ketqua*x\n",
        "  return ketqua\n",
        "luythua(2,1)\n",
        "luythua(2,0)"
      ]
    },
    {
      "cell_type": "code",
      "source": [
        "#bài 2\n",
        "def frange(batdau, ketthuc, buocnhay):\n",
        "  day_ketqua = []\n",
        "  while batdau < ketthuc:\n",
        "    day_ketqua.append(batdau)\n",
        "    batdau = batdau + buocnhay\n",
        "  return day_ketqua\n",
        "tu0den2 = frange(0, 2, 0.2)\n",
        "tu0den2\n"
      ],
      "metadata": {
        "colab": {
          "base_uri": "https://localhost:8080/"
        },
        "id": "IXvvmBp0K8mJ",
        "outputId": "677b5cee-0b79-49c2-cc6c-be27aab60dec"
      },
      "execution_count": null,
      "outputs": [
        {
          "output_type": "execute_result",
          "data": {
            "text/plain": [
              "[0,\n",
              " 0.2,\n",
              " 0.4,\n",
              " 0.6000000000000001,\n",
              " 0.8,\n",
              " 1.0,\n",
              " 1.2,\n",
              " 1.4,\n",
              " 1.5999999999999999,\n",
              " 1.7999999999999998,\n",
              " 1.9999999999999998]"
            ]
          },
          "metadata": {},
          "execution_count": 14
        }
      ]
    },
    {
      "cell_type": "code",
      "source": [
        "#bài4\n",
        "def f (x) : return x**2\n",
        "print(f(8))\n",
        "g = lambda x: x**2\n",
        "print(g(8))"
      ],
      "metadata": {
        "colab": {
          "base_uri": "https://localhost:8080/"
        },
        "id": "88g5C0f5Niex",
        "outputId": "8be1d091-0806-4b14-f846-219f518a257d"
      },
      "execution_count": null,
      "outputs": [
        {
          "output_type": "stream",
          "name": "stdout",
          "text": [
            "64\n",
            "64\n"
          ]
        }
      ]
    },
    {
      "cell_type": "code",
      "source": [
        "#bài3\n",
        "from matplotlib import pyplot as plt\n",
        "import math\n",
        "def draw_graph(x,y):\n",
        "  plt.plot(x,y)\n",
        "  plt.xlabel('Truc X')\n",
        "  plt.ylabel('Truc Y')\n",
        "  plt.title('Do thi bai toan nem qua bong')\n",
        "def frange(start, final, intervals):\n",
        "  numbers=[]\n",
        "  while start<final:\n",
        "    numbers.append(start)\n",
        "    start=start+intervals\n",
        "  return numbers\n",
        "def draw_trajectory(u, theta):\n",
        "   g=9.8\n",
        "   theta=math.radians(theta)\n",
        "   t_flight=2*u*math.sin(theta)/g\n",
        "   intervals=frange(0,t_flight,0.001)\n",
        "   x=[]\n",
        "   y=[]\n",
        "   for t in interval:\n",
        "       x.append(u*math.cos(theta)*t)\n",
        "       y.append(u*math.sin(theta)*t - 0.5*g*t*t)\n",
        "   draw_graph(x, y) \n",
        "if __name__ == '__main__':\n",
        "   try:\n",
        "     u = float(input('Nhap van toc ban dau (m/s): '))\n",
        "     theta = float(input('Nhap goc bay (degrees): '))\n",
        "   except ValueError:\n",
        "     print(' Nhap cac gia tri sai! ')\n",
        "   else:\n",
        "     draw_trajectory(u, theta)\n",
        "     plt.show()\n",
        "   finally:\n",
        "     print('Hoan thanh chuong trinh!') \n"
      ],
      "metadata": {
        "id": "63T5UWLuLgZV",
        "colab": {
          "base_uri": "https://localhost:8080/",
          "height": 409
        },
        "outputId": "d328309a-1aba-45db-dce4-92ea5476e170"
      },
      "execution_count": 99,
      "outputs": [
        {
          "output_type": "stream",
          "name": "stdout",
          "text": [
            "Nhap van toc ban dau (m/s): 30\n",
            "Nhap goc bay (degrees): 60\n",
            "Hoan thanh chuong trinh!\n"
          ]
        },
        {
          "output_type": "error",
          "ename": "NameError",
          "evalue": "ignored",
          "traceback": [
            "\u001b[0;31m---------------------------------------------------------------------------\u001b[0m",
            "\u001b[0;31mNameError\u001b[0m                                 Traceback (most recent call last)",
            "\u001b[0;32m<ipython-input-99-d3c59ebc1198>\u001b[0m in \u001b[0;36m<module>\u001b[0;34m()\u001b[0m\n\u001b[1;32m     31\u001b[0m      \u001b[0mprint\u001b[0m\u001b[0;34m(\u001b[0m\u001b[0;34m' Nhap cac gia tri sai! '\u001b[0m\u001b[0;34m)\u001b[0m\u001b[0;34m\u001b[0m\u001b[0;34m\u001b[0m\u001b[0m\n\u001b[1;32m     32\u001b[0m    \u001b[0;32melse\u001b[0m\u001b[0;34m:\u001b[0m\u001b[0;34m\u001b[0m\u001b[0;34m\u001b[0m\u001b[0m\n\u001b[0;32m---> 33\u001b[0;31m      \u001b[0mdraw_trajectory\u001b[0m\u001b[0;34m(\u001b[0m\u001b[0mu\u001b[0m\u001b[0;34m,\u001b[0m \u001b[0mtheta\u001b[0m\u001b[0;34m)\u001b[0m\u001b[0;34m\u001b[0m\u001b[0;34m\u001b[0m\u001b[0m\n\u001b[0m\u001b[1;32m     34\u001b[0m      \u001b[0mplt\u001b[0m\u001b[0;34m.\u001b[0m\u001b[0mshow\u001b[0m\u001b[0;34m(\u001b[0m\u001b[0;34m)\u001b[0m\u001b[0;34m\u001b[0m\u001b[0;34m\u001b[0m\u001b[0m\n\u001b[1;32m     35\u001b[0m    \u001b[0;32mfinally\u001b[0m\u001b[0;34m:\u001b[0m\u001b[0;34m\u001b[0m\u001b[0;34m\u001b[0m\u001b[0m\n",
            "\u001b[0;32m<ipython-input-99-d3c59ebc1198>\u001b[0m in \u001b[0;36mdraw_trajectory\u001b[0;34m(u, theta)\u001b[0m\n\u001b[1;32m     20\u001b[0m    \u001b[0mx\u001b[0m\u001b[0;34m=\u001b[0m\u001b[0;34m[\u001b[0m\u001b[0;34m]\u001b[0m\u001b[0;34m\u001b[0m\u001b[0;34m\u001b[0m\u001b[0m\n\u001b[1;32m     21\u001b[0m    \u001b[0my\u001b[0m\u001b[0;34m=\u001b[0m\u001b[0;34m[\u001b[0m\u001b[0;34m]\u001b[0m\u001b[0;34m\u001b[0m\u001b[0;34m\u001b[0m\u001b[0m\n\u001b[0;32m---> 22\u001b[0;31m    \u001b[0;32mfor\u001b[0m \u001b[0mt\u001b[0m \u001b[0;32min\u001b[0m \u001b[0minterval\u001b[0m\u001b[0;34m:\u001b[0m\u001b[0;34m\u001b[0m\u001b[0;34m\u001b[0m\u001b[0m\n\u001b[0m\u001b[1;32m     23\u001b[0m        \u001b[0mx\u001b[0m\u001b[0;34m.\u001b[0m\u001b[0mappend\u001b[0m\u001b[0;34m(\u001b[0m\u001b[0mu\u001b[0m\u001b[0;34m*\u001b[0m\u001b[0mmath\u001b[0m\u001b[0;34m.\u001b[0m\u001b[0mcos\u001b[0m\u001b[0;34m(\u001b[0m\u001b[0mtheta\u001b[0m\u001b[0;34m)\u001b[0m\u001b[0;34m*\u001b[0m\u001b[0mt\u001b[0m\u001b[0;34m)\u001b[0m\u001b[0;34m\u001b[0m\u001b[0;34m\u001b[0m\u001b[0m\n\u001b[1;32m     24\u001b[0m        \u001b[0my\u001b[0m\u001b[0;34m.\u001b[0m\u001b[0mappend\u001b[0m\u001b[0;34m(\u001b[0m\u001b[0mu\u001b[0m\u001b[0;34m*\u001b[0m\u001b[0mmath\u001b[0m\u001b[0;34m.\u001b[0m\u001b[0msin\u001b[0m\u001b[0;34m(\u001b[0m\u001b[0mtheta\u001b[0m\u001b[0;34m)\u001b[0m\u001b[0;34m*\u001b[0m\u001b[0mt\u001b[0m \u001b[0;34m-\u001b[0m \u001b[0;36m0.5\u001b[0m\u001b[0;34m*\u001b[0m\u001b[0mg\u001b[0m\u001b[0;34m*\u001b[0m\u001b[0mt\u001b[0m\u001b[0;34m*\u001b[0m\u001b[0mt\u001b[0m\u001b[0;34m)\u001b[0m\u001b[0;34m\u001b[0m\u001b[0;34m\u001b[0m\u001b[0m\n",
            "\u001b[0;31mNameError\u001b[0m: name 'interval' is not defined"
          ]
        }
      ]
    },
    {
      "cell_type": "code",
      "source": [
        "from matplotlib import pyplot as plt\n",
        "import math\n",
        "def draw_graph(x,y):\n",
        "  plt.plot(x,y)\n",
        "  plt.xlabel('Truc X')\n",
        "  plt.ylabel('Truc Y')\n",
        "  plt.title('Do thi bai toan nem qua bong')\n",
        "def frange(start, final, interval):\n",
        " numbers = []\n",
        " while start < final:\n",
        "   numbers.append(start)\n",
        "   start = start + interval\n",
        "def draw_trajectory(u, theta):\n",
        " return numbers \n",
        "# Gia toc trong truong\n",
        " g = 9.8\n",
        " # Goc bay:\n",
        " theta = math.radians(theta)\n",
        " # Thoi gian bay:\n",
        " t_flight = 2*u*math.sin(theta)/g\n",
        " # Tinh toan khoang cach thoi gian\n",
        " intervals = frange(0, t_flight, 0.001)\n",
        " # Danh sach toa do x va y\n",
        " x = []\n",
        " y = []\n",
        " for t in intervals:\n",
        "  x.append(u*math.cos(theta)*t)\n",
        "  y.append(u*math.sin(theta)*t - 0.5*g*t*t)\n",
        " draw_graph(x, y) \n",
        " if _name_ == '_main_':\n",
        "  try:\n",
        "   u = float(input('Nhap van toc ban dau (m/s): '))\n",
        "   theta = float(input('Nhap goc bay (degrees): '))\n",
        "  except ValueError:\n",
        "   print (' Nhap cac gia tri sai! ')\n",
        "  else:\n",
        "   draw_trajectory(u, theta)\n",
        "   plt.show()\n",
        "  finally:\n",
        "   print ('Hoan thanh chuong trinh!')"
      ],
      "metadata": {
        "id": "35cJjhyTkPOI"
      },
      "execution_count": 94,
      "outputs": []
    }
  ]
}